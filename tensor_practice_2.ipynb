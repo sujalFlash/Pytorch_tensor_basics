{
  "nbformat": 4,
  "nbformat_minor": 0,
  "metadata": {
    "colab": {
      "provenance": []
    },
    "kernelspec": {
      "name": "python3",
      "display_name": "Python 3"
    },
    "language_info": {
      "name": "python"
    }
  },
  "cells": [
    {
      "cell_type": "code",
      "execution_count": 36,
      "metadata": {
        "id": "VmDAnFDL9s7v"
      },
      "outputs": [],
      "source": [
        "import torch"
      ]
    },
    {
      "cell_type": "code",
      "source": [
        "import pandas as pd\n",
        "import numpy as np"
      ],
      "metadata": {
        "id": "vpuVKvp793Du"
      },
      "execution_count": 37,
      "outputs": []
    },
    {
      "cell_type": "code",
      "source": [
        "device=\"cuda\" if torch.cuda.is_available() else \"cpu\""
      ],
      "metadata": {
        "id": "syvVzZEJ98Qk"
      },
      "execution_count": 38,
      "outputs": []
    },
    {
      "cell_type": "code",
      "source": [
        "tor=torch.tensor(8)\n",
        "tor"
      ],
      "metadata": {
        "colab": {
          "base_uri": "https://localhost:8080/"
        },
        "id": "_L1jwvN8_XHJ",
        "outputId": "70bc0023-f8a3-4561-ee59-4909c1079fe4"
      },
      "execution_count": 6,
      "outputs": [
        {
          "output_type": "execute_result",
          "data": {
            "text/plain": [
              "tensor(8)"
            ]
          },
          "metadata": {},
          "execution_count": 6
        }
      ]
    },
    {
      "cell_type": "code",
      "source": [],
      "metadata": {
        "id": "84Oz7WOB_n_V"
      },
      "execution_count": null,
      "outputs": []
    },
    {
      "cell_type": "code",
      "source": [
        "tor.dim()"
      ],
      "metadata": {
        "colab": {
          "base_uri": "https://localhost:8080/"
        },
        "id": "M-5BLR6B_oPh",
        "outputId": "4199a120-8f2f-48ac-d355-65c34ac415d3"
      },
      "execution_count": 8,
      "outputs": [
        {
          "output_type": "execute_result",
          "data": {
            "text/plain": [
              "0"
            ]
          },
          "metadata": {},
          "execution_count": 8
        }
      ]
    },
    {
      "cell_type": "code",
      "source": [
        "tor.shape"
      ],
      "metadata": {
        "colab": {
          "base_uri": "https://localhost:8080/"
        },
        "id": "CZ9-Oo9g_tMG",
        "outputId": "607eda0e-5dd1-4bee-b1db-520c063f2c8b"
      },
      "execution_count": 11,
      "outputs": [
        {
          "output_type": "execute_result",
          "data": {
            "text/plain": [
              "torch.Size([])"
            ]
          },
          "metadata": {},
          "execution_count": 11
        }
      ]
    },
    {
      "cell_type": "code",
      "source": [
        "tor.size()"
      ],
      "metadata": {
        "colab": {
          "base_uri": "https://localhost:8080/"
        },
        "id": "oTQ_QRl7_zSE",
        "outputId": "c44b3534-51be-470d-ed20-e93b73c07c39"
      },
      "execution_count": 12,
      "outputs": [
        {
          "output_type": "execute_result",
          "data": {
            "text/plain": [
              "torch.Size([])"
            ]
          },
          "metadata": {},
          "execution_count": 12
        }
      ]
    },
    {
      "cell_type": "code",
      "source": [
        "tor.dtype"
      ],
      "metadata": {
        "colab": {
          "base_uri": "https://localhost:8080/"
        },
        "id": "sKzHbraaAii5",
        "outputId": "2a123a39-35b2-4f9e-d0eb-e9c978fc7069"
      },
      "execution_count": 14,
      "outputs": [
        {
          "output_type": "execute_result",
          "data": {
            "text/plain": [
              "torch.int64"
            ]
          },
          "metadata": {},
          "execution_count": 14
        }
      ]
    },
    {
      "cell_type": "code",
      "source": [
        "tor2=torch.tensor([1,2,3,4])\n",
        "tor3=torch.tensor([1,2,3])\n",
        "tor4=torch.tensor([[1,2,3],[2,3,4]])\n",
        "tor5=torch.tensor([[1,2,3],[2,3,4],[5,6,7]])\n",
        "tor6=torch.tensor([[1,2,3],[4,5,6],[7,8,9],[10,11,12]])\n",
        "tor2,tor3,tor4,tor5,tor6"
      ],
      "metadata": {
        "colab": {
          "base_uri": "https://localhost:8080/"
        },
        "id": "7lcOYJUyArdq",
        "outputId": "64fbb76e-7d24-4c58-bc8d-dcaff1ac3e22"
      },
      "execution_count": 28,
      "outputs": [
        {
          "output_type": "execute_result",
          "data": {
            "text/plain": [
              "(tensor([1, 2, 3, 4]),\n",
              " tensor([1, 2, 3]),\n",
              " tensor([[1, 2, 3],\n",
              "         [2, 3, 4]]),\n",
              " tensor([[1, 2, 3],\n",
              "         [2, 3, 4],\n",
              "         [5, 6, 7]]),\n",
              " tensor([[ 1,  2,  3],\n",
              "         [ 4,  5,  6],\n",
              "         [ 7,  8,  9],\n",
              "         [10, 11, 12]]))"
            ]
          },
          "metadata": {},
          "execution_count": 28
        }
      ]
    },
    {
      "cell_type": "code",
      "source": [
        "tor2.dim(),tor3.dim(),tor4.dim(),tor5.dim(),tor6.dim()"
      ],
      "metadata": {
        "colab": {
          "base_uri": "https://localhost:8080/"
        },
        "id": "q8MYziITCVKi",
        "outputId": "35616fef-07a2-4e0c-c175-a9812402ff59"
      },
      "execution_count": 30,
      "outputs": [
        {
          "output_type": "execute_result",
          "data": {
            "text/plain": [
              "(1, 1, 2, 2, 2)"
            ]
          },
          "metadata": {},
          "execution_count": 30
        }
      ]
    },
    {
      "cell_type": "code",
      "source": [
        "tor2.shape,tor3.shape,tor4.shape,tor5.shape,tor6.shape"
      ],
      "metadata": {
        "colab": {
          "base_uri": "https://localhost:8080/"
        },
        "id": "nBhf-ob3AzDE",
        "outputId": "4b5a75dd-6764-47c4-f59f-c654de6788d4"
      },
      "execution_count": 29,
      "outputs": [
        {
          "output_type": "execute_result",
          "data": {
            "text/plain": [
              "(torch.Size([4]),\n",
              " torch.Size([3]),\n",
              " torch.Size([2, 3]),\n",
              " torch.Size([3, 3]),\n",
              " torch.Size([4, 3]))"
            ]
          },
          "metadata": {},
          "execution_count": 29
        }
      ]
    },
    {
      "cell_type": "code",
      "source": [
        "tor7=torch.tensor([[[1,2,3],[4,5,6],[7,8,9]]])\n",
        "tor8=torch.tensor([[[11,22,33],[44,55,66],[77,88,99],[99,10,1]]])\n",
        "tor7,tor8"
      ],
      "metadata": {
        "colab": {
          "base_uri": "https://localhost:8080/"
        },
        "id": "tFzNF8aPD_7h",
        "outputId": "2d76aa0b-4f0d-4b2a-b849-68eec994e0ba"
      },
      "execution_count": 34,
      "outputs": [
        {
          "output_type": "execute_result",
          "data": {
            "text/plain": [
              "(tensor([[[1, 2, 3],\n",
              "          [4, 5, 6],\n",
              "          [7, 8, 9]]]),\n",
              " tensor([[[11, 22, 33],\n",
              "          [44, 55, 66],\n",
              "          [77, 88, 99],\n",
              "          [99, 10,  1]]]))"
            ]
          },
          "metadata": {},
          "execution_count": 34
        }
      ]
    },
    {
      "cell_type": "code",
      "source": [
        "tor7.dim(),tor7.shape"
      ],
      "metadata": {
        "colab": {
          "base_uri": "https://localhost:8080/"
        },
        "id": "B2I_Yj5LEO6o",
        "outputId": "49da8874-f496-481f-e324-21b9d314fd06"
      },
      "execution_count": 33,
      "outputs": [
        {
          "output_type": "execute_result",
          "data": {
            "text/plain": [
              "(3, torch.Size([1, 3, 3]))"
            ]
          },
          "metadata": {},
          "execution_count": 33
        }
      ]
    },
    {
      "cell_type": "code",
      "source": [
        "tor8.dim(),tor8.shape"
      ],
      "metadata": {
        "colab": {
          "base_uri": "https://localhost:8080/"
        },
        "id": "fR0BYLRGFWbK",
        "outputId": "7b2ff605-25a5-4e6b-e3c8-69b6d400ff89"
      },
      "execution_count": 35,
      "outputs": [
        {
          "output_type": "execute_result",
          "data": {
            "text/plain": [
              "(3, torch.Size([1, 4, 3]))"
            ]
          },
          "metadata": {},
          "execution_count": 35
        }
      ]
    },
    {
      "cell_type": "code",
      "source": [
        "tor9=torch.tensor([[[1,2,3]],[[4,5,6]]])\n",
        "tor9"
      ],
      "metadata": {
        "colab": {
          "base_uri": "https://localhost:8080/"
        },
        "id": "9Vw8D1q-Ff8e",
        "outputId": "61582463-248d-4109-d095-c98610090cc1"
      },
      "execution_count": 40,
      "outputs": [
        {
          "output_type": "execute_result",
          "data": {
            "text/plain": [
              "tensor([[[1, 2, 3]],\n",
              "\n",
              "        [[4, 5, 6]]])"
            ]
          },
          "metadata": {},
          "execution_count": 40
        }
      ]
    },
    {
      "cell_type": "code",
      "source": [
        "tor9.dim(),tor9.shape"
      ],
      "metadata": {
        "colab": {
          "base_uri": "https://localhost:8080/"
        },
        "id": "6Ze0iA8FMKSF",
        "outputId": "4b2ea5b6-2f97-4f3e-e7de-67a8edcf2202"
      },
      "execution_count": 41,
      "outputs": [
        {
          "output_type": "execute_result",
          "data": {
            "text/plain": [
              "(3, torch.Size([2, 1, 3]))"
            ]
          },
          "metadata": {},
          "execution_count": 41
        }
      ]
    },
    {
      "cell_type": "markdown",
      "source": [
        "Reshaping the tensor into defined shape\n",
        "returns view of defined shape using same memory\n",
        "stacking-combining  multiple tensors either horizantally or vertically\n",
        "squeeze-removes all 1 dimension from tensor\n",
        "unsqueeze-add 1 dimension to target tensor\n",
        "permute-return view of input with dimensions permuted or swapped in certain way"
      ],
      "metadata": {
        "id": "jbPz4QmuO_If"
      }
    },
    {
      "cell_type": "code",
      "source": [
        "x=torch.arange(1.0,10.0)\n",
        "x,x.dim(),x.shape"
      ],
      "metadata": {
        "colab": {
          "base_uri": "https://localhost:8080/"
        },
        "id": "0-gcmLPbPDWr",
        "outputId": "0713b608-77a7-48cd-bd33-75214fba2d60"
      },
      "execution_count": 44,
      "outputs": [
        {
          "output_type": "execute_result",
          "data": {
            "text/plain": [
              "(tensor([1., 2., 3., 4., 5., 6., 7., 8., 9.]), 1, torch.Size([9]))"
            ]
          },
          "metadata": {},
          "execution_count": 44
        }
      ]
    },
    {
      "cell_type": "code",
      "source": [
        "x=x.reshape(1,9)\n",
        "x,x.shape"
      ],
      "metadata": {
        "colab": {
          "base_uri": "https://localhost:8080/"
        },
        "id": "Fd-3Iq_BSPzR",
        "outputId": "61edcc7b-fe3c-4b04-da3b-51be64ff2f31"
      },
      "execution_count": 45,
      "outputs": [
        {
          "output_type": "execute_result",
          "data": {
            "text/plain": [
              "(tensor([[1., 2., 3., 4., 5., 6., 7., 8., 9.]]), torch.Size([1, 9]))"
            ]
          },
          "metadata": {},
          "execution_count": 45
        }
      ]
    },
    {
      "cell_type": "code",
      "source": [
        "x=x.reshape(3,3)\n",
        "x,x.shape"
      ],
      "metadata": {
        "colab": {
          "base_uri": "https://localhost:8080/"
        },
        "id": "fQwp1Gp3VGXw",
        "outputId": "e26fade1-099a-4991-90ce-8fb474df9c4e"
      },
      "execution_count": 46,
      "outputs": [
        {
          "output_type": "execute_result",
          "data": {
            "text/plain": [
              "(tensor([[1., 2., 3.],\n",
              "         [4., 5., 6.],\n",
              "         [7., 8., 9.]]),\n",
              " torch.Size([3, 3]))"
            ]
          },
          "metadata": {},
          "execution_count": 46
        }
      ]
    },
    {
      "cell_type": "code",
      "source": [
        "x=x.reshape(9,1)\n",
        "x,x.shape"
      ],
      "metadata": {
        "colab": {
          "base_uri": "https://localhost:8080/"
        },
        "id": "d0uC_bADVMmz",
        "outputId": "2b7e461a-fe15-4ac4-80e8-a783428d1c61"
      },
      "execution_count": 47,
      "outputs": [
        {
          "output_type": "execute_result",
          "data": {
            "text/plain": [
              "(tensor([[1.],\n",
              "         [2.],\n",
              "         [3.],\n",
              "         [4.],\n",
              "         [5.],\n",
              "         [6.],\n",
              "         [7.],\n",
              "         [8.],\n",
              "         [9.]]),\n",
              " torch.Size([9, 1]))"
            ]
          },
          "metadata": {},
          "execution_count": 47
        }
      ]
    },
    {
      "cell_type": "code",
      "source": [
        "z=x.view(9)"
      ],
      "metadata": {
        "id": "0FBT4lwTXWeZ"
      },
      "execution_count": 48,
      "outputs": []
    },
    {
      "cell_type": "code",
      "source": [
        "x[8:]=9.5"
      ],
      "metadata": {
        "id": "Ory16gVyXiKy"
      },
      "execution_count": 49,
      "outputs": []
    },
    {
      "cell_type": "code",
      "source": [
        "x"
      ],
      "metadata": {
        "colab": {
          "base_uri": "https://localhost:8080/"
        },
        "id": "v0KgPHzPXuqs",
        "outputId": "12c906ee-573b-45c8-d234-025cba5fd81b"
      },
      "execution_count": 50,
      "outputs": [
        {
          "output_type": "execute_result",
          "data": {
            "text/plain": [
              "tensor([[1.0000],\n",
              "        [2.0000],\n",
              "        [3.0000],\n",
              "        [4.0000],\n",
              "        [5.0000],\n",
              "        [6.0000],\n",
              "        [7.0000],\n",
              "        [8.0000],\n",
              "        [9.5000]])"
            ]
          },
          "metadata": {},
          "execution_count": 50
        }
      ]
    },
    {
      "cell_type": "code",
      "source": [
        "z"
      ],
      "metadata": {
        "colab": {
          "base_uri": "https://localhost:8080/"
        },
        "id": "RAclpkiNXzK7",
        "outputId": "ca65fdcc-2fad-4fe1-b4f8-66d1d22c66f9"
      },
      "execution_count": 51,
      "outputs": [
        {
          "output_type": "execute_result",
          "data": {
            "text/plain": [
              "tensor([1.0000, 2.0000, 3.0000, 4.0000, 5.0000, 6.0000, 7.0000, 8.0000, 9.5000])"
            ]
          },
          "metadata": {},
          "execution_count": 51
        }
      ]
    },
    {
      "cell_type": "code",
      "source": [
        "xv_stack=torch.stack([z,z,z])#default dim=0 vertial stacking\n",
        "xv_stack"
      ],
      "metadata": {
        "colab": {
          "base_uri": "https://localhost:8080/"
        },
        "id": "5s6Zx5Y-ZMI7",
        "outputId": "7a15e14f-224c-43ec-8ccf-c614fc77d2b6"
      },
      "execution_count": 53,
      "outputs": [
        {
          "output_type": "execute_result",
          "data": {
            "text/plain": [
              "tensor([[1.0000, 2.0000, 3.0000, 4.0000, 5.0000, 6.0000, 7.0000, 8.0000, 9.5000],\n",
              "        [1.0000, 2.0000, 3.0000, 4.0000, 5.0000, 6.0000, 7.0000, 8.0000, 9.5000],\n",
              "        [1.0000, 2.0000, 3.0000, 4.0000, 5.0000, 6.0000, 7.0000, 8.0000, 9.5000]])"
            ]
          },
          "metadata": {},
          "execution_count": 53
        }
      ]
    },
    {
      "cell_type": "code",
      "source": [
        "xv_stack2=torch.stack([z,z,z],dim=0)\n",
        "xv_stack2"
      ],
      "metadata": {
        "colab": {
          "base_uri": "https://localhost:8080/"
        },
        "id": "CETCmxg4Zduo",
        "outputId": "c03da846-824c-4ee2-c51a-5645889c1ddb"
      },
      "execution_count": 54,
      "outputs": [
        {
          "output_type": "execute_result",
          "data": {
            "text/plain": [
              "tensor([[1.0000, 2.0000, 3.0000, 4.0000, 5.0000, 6.0000, 7.0000, 8.0000, 9.5000],\n",
              "        [1.0000, 2.0000, 3.0000, 4.0000, 5.0000, 6.0000, 7.0000, 8.0000, 9.5000],\n",
              "        [1.0000, 2.0000, 3.0000, 4.0000, 5.0000, 6.0000, 7.0000, 8.0000, 9.5000]])"
            ]
          },
          "metadata": {},
          "execution_count": 54
        }
      ]
    },
    {
      "cell_type": "code",
      "source": [
        "xh_stack3=torch.stack([z,z,z],dim=1)\n",
        "xh_stack3 #horizantal stacking dim=1\n"
      ],
      "metadata": {
        "colab": {
          "base_uri": "https://localhost:8080/"
        },
        "id": "OsugTJfpZoyy",
        "outputId": "04c1ea27-014f-4ef9-f27c-ec3c759fcc03"
      },
      "execution_count": 55,
      "outputs": [
        {
          "output_type": "execute_result",
          "data": {
            "text/plain": [
              "tensor([[1.0000, 1.0000, 1.0000],\n",
              "        [2.0000, 2.0000, 2.0000],\n",
              "        [3.0000, 3.0000, 3.0000],\n",
              "        [4.0000, 4.0000, 4.0000],\n",
              "        [5.0000, 5.0000, 5.0000],\n",
              "        [6.0000, 6.0000, 6.0000],\n",
              "        [7.0000, 7.0000, 7.0000],\n",
              "        [8.0000, 8.0000, 8.0000],\n",
              "        [9.5000, 9.5000, 9.5000]])"
            ]
          },
          "metadata": {},
          "execution_count": 55
        }
      ]
    },
    {
      "cell_type": "code",
      "source": [
        "#squeeze removing one dimensions\n",
        "x.shape"
      ],
      "metadata": {
        "colab": {
          "base_uri": "https://localhost:8080/"
        },
        "id": "01yocEyUZ5yO",
        "outputId": "19761493-b7da-4528-ff44-a42a9c84ee67"
      },
      "execution_count": 56,
      "outputs": [
        {
          "output_type": "execute_result",
          "data": {
            "text/plain": [
              "torch.Size([9, 1])"
            ]
          },
          "metadata": {},
          "execution_count": 56
        }
      ]
    },
    {
      "cell_type": "code",
      "source": [
        "x=torch.squeeze(x)"
      ],
      "metadata": {
        "id": "Z_4fq7SdaX5G"
      },
      "execution_count": 59,
      "outputs": []
    },
    {
      "cell_type": "code",
      "source": [
        "x.shape"
      ],
      "metadata": {
        "colab": {
          "base_uri": "https://localhost:8080/"
        },
        "id": "dHUXQNojak9R",
        "outputId": "46d69f15-491c-445c-c033-79bda14086d5"
      },
      "execution_count": 60,
      "outputs": [
        {
          "output_type": "execute_result",
          "data": {
            "text/plain": [
              "torch.Size([9])"
            ]
          },
          "metadata": {},
          "execution_count": 60
        }
      ]
    },
    {
      "cell_type": "code",
      "source": [
        "a=torch.tensor([1,2,3])\n",
        "print(a.shape)\n",
        "a=torch.squeeze(a)\n",
        "print(a.shape)"
      ],
      "metadata": {
        "colab": {
          "base_uri": "https://localhost:8080/"
        },
        "id": "gpnbcbL6a-eE",
        "outputId": "6aac863f-27ef-4dfb-965b-6988ddc0f48b"
      },
      "execution_count": 65,
      "outputs": [
        {
          "output_type": "stream",
          "name": "stdout",
          "text": [
            "torch.Size([3])\n",
            "torch.Size([3])\n"
          ]
        }
      ]
    },
    {
      "cell_type": "code",
      "source": [
        "x_unsqueezed_1=torch.unsqueeze(x,dim=0)\n",
        "x_unsqueezed_1.shape"
      ],
      "metadata": {
        "colab": {
          "base_uri": "https://localhost:8080/"
        },
        "id": "XF0-2c3Wanzz",
        "outputId": "05f4315a-81f5-4887-fa76-39d66f9b6ad1"
      },
      "execution_count": 66,
      "outputs": [
        {
          "output_type": "execute_result",
          "data": {
            "text/plain": [
              "torch.Size([1, 9])"
            ]
          },
          "metadata": {},
          "execution_count": 66
        }
      ]
    },
    {
      "cell_type": "code",
      "source": [
        "x_unsqueezed_2=torch.unsqueeze(x,dim=1)\n",
        "x_unsqueezed_2.shape"
      ],
      "metadata": {
        "colab": {
          "base_uri": "https://localhost:8080/"
        },
        "id": "FiG9fWbTcq3S",
        "outputId": "7e1adcc7-b88b-4ff5-a4e6-34be28b5d748"
      },
      "execution_count": 67,
      "outputs": [
        {
          "output_type": "execute_result",
          "data": {
            "text/plain": [
              "torch.Size([9, 1])"
            ]
          },
          "metadata": {},
          "execution_count": 67
        }
      ]
    },
    {
      "cell_type": "code",
      "source": [
        "x_unsqueezed_2=torch.permute(x_unsqueezed_2,dims=(1,0))"
      ],
      "metadata": {
        "id": "qUhkGagVemzs"
      },
      "execution_count": 69,
      "outputs": []
    },
    {
      "cell_type": "code",
      "source": [
        "x_unsqueezed_2.shape"
      ],
      "metadata": {
        "colab": {
          "base_uri": "https://localhost:8080/"
        },
        "id": "l2Zq3quMfZ5l",
        "outputId": "2fc88af1-3398-43dd-d9b8-f6da1d77d79c"
      },
      "execution_count": 70,
      "outputs": [
        {
          "output_type": "execute_result",
          "data": {
            "text/plain": [
              "torch.Size([1, 9])"
            ]
          },
          "metadata": {},
          "execution_count": 70
        }
      ]
    }
  ]
}