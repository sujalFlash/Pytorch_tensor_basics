{
  "nbformat": 4,
  "nbformat_minor": 0,
  "metadata": {
    "colab": {
      "name": "00_pytorch_fundamentals_exercises.ipynb",
      "provenance": []
    },
    "kernelspec": {
      "name": "python3",
      "display_name": "Python 3"
    },
    "language_info": {
      "name": "python"
    },
    "accelerator": "GPU"
  },
  "cells": [
    {
      "cell_type": "markdown",
      "source": [
        "# 00. PyTorch Fundamentals Exercises\n",
        "\n",
        "### 1. Documentation reading\n",
        "\n",
        "A big part of deep learning (and learning to code in general) is getting familiar with the documentation of a certain framework you're using. We'll be using the PyTorch documentation a lot throughout the rest of this course. So I'd recommend spending 10-minutes reading the following (it's okay if you don't get some things for now, the focus is not yet full understanding, it's awareness):\n",
        "  * The documentation on [`torch.Tensor`](https://pytorch.org/docs/stable/tensors.html#torch-tensor).\n",
        "  * The documentation on [`torch.cuda`](https://pytorch.org/docs/master/notes/cuda.html#cuda-semantics).\n",
        "\n"
      ],
      "metadata": {
        "id": "AzDBM_v4iMe7"
      }
    },
    {
      "cell_type": "code",
      "source": [
        "# No code solution (reading)"
      ],
      "metadata": {
        "id": "bGD0oD8Kizak"
      },
      "execution_count": null,
      "outputs": []
    },
    {
      "cell_type": "markdown",
      "source": [
        "### 2. Create a random tensor with shape `(7, 7)`.\n"
      ],
      "metadata": {
        "id": "__iXqqz-ioUJ"
      }
    },
    {
      "cell_type": "code",
      "source": [
        "# Import torch\n",
        "\n",
        "import torch\n",
        "random_tensor=torch.rand(7,7)\n",
        "random_tensor\n",
        "# Create random tensor\n"
      ],
      "metadata": {
        "id": "6pUq9Dc8i2L7",
        "colab": {
          "base_uri": "https://localhost:8080/"
        },
        "outputId": "517717d7-07af-45cf-fcb1-a7a98259f507"
      },
      "execution_count": 4,
      "outputs": [
        {
          "output_type": "execute_result",
          "data": {
            "text/plain": [
              "tensor([[0.6073, 0.7751, 0.7117, 0.9953, 0.2455, 0.0127, 0.6945],\n",
              "        [0.2212, 0.5519, 0.4843, 0.2804, 0.9959, 0.1477, 0.7456],\n",
              "        [0.0634, 0.7987, 0.8181, 0.9520, 0.1293, 0.6025, 0.3404],\n",
              "        [0.2733, 0.3949, 0.1415, 0.4905, 0.9635, 0.4833, 0.4536],\n",
              "        [0.7643, 0.3570, 0.1178, 0.6791, 0.1676, 0.0017, 0.9643],\n",
              "        [0.1546, 0.0865, 0.8304, 0.0943, 0.0049, 0.0605, 0.4283],\n",
              "        [0.6821, 0.5045, 0.9395, 0.6503, 0.9174, 0.3958, 0.3227]])"
            ]
          },
          "metadata": {},
          "execution_count": 4
        }
      ]
    },
    {
      "cell_type": "markdown",
      "source": [
        "### 3. Perform a matrix multiplication on the tensor from 2 with another random tensor with shape `(1, 7)` (hint: you may have to transpose the second tensor)."
      ],
      "metadata": {
        "id": "9-XxvRLfiqkR"
      }
    },
    {
      "cell_type": "code",
      "source": [
        "# Create another random tensor\n",
        "random_tensor2=torch.rand(7,2)\n",
        "random_tensor2\n",
        "# Perform matrix multiplication\n",
        "tensor_mat=torch.matmul(random_tensor,random_tensor2)\n",
        "random_tensor2,tensor_mat"
      ],
      "metadata": {
        "id": "NcLqR0Sbi_vT",
        "colab": {
          "base_uri": "https://localhost:8080/"
        },
        "outputId": "e005708d-891e-4a61-d3f6-33d1f6542926"
      },
      "execution_count": 6,
      "outputs": [
        {
          "output_type": "execute_result",
          "data": {
            "text/plain": [
              "(tensor([[0.8328, 0.6112],\n",
              "         [0.4139, 0.3309],\n",
              "         [0.1789, 0.4995],\n",
              "         [0.2736, 0.9105],\n",
              "         [0.5211, 0.4165],\n",
              "         [0.8150, 0.0311],\n",
              "         [0.1969, 0.7245]]),\n",
              " tensor([[1.5013, 2.4952],\n",
              "         [1.3622, 1.7746],\n",
              "         [1.4157, 1.8976],\n",
              "         [1.5359, 1.5598],\n",
              "         [1.2698, 2.0308],\n",
              "         [0.4751, 0.9380],\n",
              "         [1.9871, 2.2734]]))"
            ]
          },
          "metadata": {},
          "execution_count": 6
        }
      ]
    },
    {
      "cell_type": "markdown",
      "source": [
        "### 4. Set the random seed to `0` and do 2 & 3 over again.\n",
        "\n",
        "The output should be:\n",
        "```\n",
        "(tensor([[1.8542],\n",
        "         [1.9611],\n",
        "         [2.2884],\n",
        "         [3.0481],\n",
        "         [1.7067],\n",
        "         [2.5290],\n",
        "         [1.7989]]), torch.Size([7, 1]))\n",
        "```"
      ],
      "metadata": {
        "id": "eiutdKUFiryU"
      }
    },
    {
      "cell_type": "code",
      "source": [
        "# Set manual seed\n",
        "RANDOM_SEED=42\n",
        "torch.manual_seed(RANDOM_SEED)\n",
        "\n",
        "\n",
        "# Create two random tensors\n",
        "tensor_1=torch.rand(1,7)\n",
        "torch.manual_seed(RANDOM_SEED)\n",
        "tensor_2=torch.rand(7,1)\n",
        "tensor3=torch.matmul(tensor_1,tensor_2)\n",
        "tensor_1,tensor_2,tensor3\n",
        "\n",
        "\n",
        "# Matrix multiply tensors\n"
      ],
      "metadata": {
        "id": "D-lOWI_1jRMm",
        "colab": {
          "base_uri": "https://localhost:8080/"
        },
        "outputId": "bf614271-278a-4c8c-ae9d-9f62c7077da7"
      },
      "execution_count": 10,
      "outputs": [
        {
          "output_type": "execute_result",
          "data": {
            "text/plain": [
              "(tensor([[0.8823, 0.9150, 0.3829, 0.9593, 0.3904, 0.6009, 0.2566]]),\n",
              " tensor([[0.8823],\n",
              "         [0.9150],\n",
              "         [0.3829],\n",
              "         [0.9593],\n",
              "         [0.3904],\n",
              "         [0.6009],\n",
              "         [0.2566]]),\n",
              " tensor([[3.2618]]))"
            ]
          },
          "metadata": {},
          "execution_count": 10
        }
      ]
    },
    {
      "cell_type": "markdown",
      "source": [
        "### 5. Speaking of random seeds, we saw how to set it with `torch.manual_seed()` but is there a GPU equivalent? (hint: you'll need to look into the documentation for `torch.cuda` for this one)\n",
        "  * If there is, set the GPU random seed to `1234`."
      ],
      "metadata": {
        "id": "ezY6ks9Cis37"
      }
    },
    {
      "cell_type": "code",
      "source": [
        "# Set random seed on the GPU\n",
        "if torch.cuda.is_available():\n",
        "  torch.cuda.manual_seed(1234)\n",
        "  print(\"Gpu is available\")\n",
        "else:\n",
        "  print(\"Gpu is not available\")"
      ],
      "metadata": {
        "id": "_LKWcfSTjp00",
        "colab": {
          "base_uri": "https://localhost:8080/"
        },
        "outputId": "9ef53f30-4ce3-4931-bf86-7120d9ad13bd"
      },
      "execution_count": 15,
      "outputs": [
        {
          "output_type": "stream",
          "name": "stdout",
          "text": [
            "Gpu is available\n"
          ]
        }
      ]
    },
    {
      "cell_type": "markdown",
      "source": [
        "\n",
        "### 6. Create two random tensors of shape `(2, 3)` and send them both to the GPU (you'll need access to a GPU for this). Set `torch.manual_seed(1234)` when creating the tensors (this doesn't have to be the GPU random seed). The output should be something like:\n",
        "\n",
        "```\n",
        "Device: cuda\n",
        "(tensor([[0.0290, 0.4019, 0.2598],\n",
        "         [0.3666, 0.0583, 0.7006]], device='cuda:0'),\n",
        " tensor([[0.0518, 0.4681, 0.6738],\n",
        "         [0.3315, 0.7837, 0.5631]], device='cuda:0'))\n",
        "```"
      ],
      "metadata": {
        "id": "Ir9qSaj6it4n"
      }
    },
    {
      "cell_type": "code",
      "source": [
        "# Set random seed\n",
        "if torch.cuda.is_available():\n",
        "  torch.cuda.manual_seed(1234)\n",
        "\n",
        "# Check for access to GPU\n",
        "if torch.cuda.is_available():\n",
        "  rand1=torch.rand(2,3).to(\"cuda\")\n",
        "  rand2=torch.rand(3,2).to(\"cuda\")\n",
        "else:\n",
        "  print('Gpu is not available')\n",
        "# Create two random tensors on GPU\n",
        "rand1,rand2"
      ],
      "metadata": {
        "id": "azXExiFZj5nm",
        "colab": {
          "base_uri": "https://localhost:8080/"
        },
        "outputId": "fa81fa85-1fe1-49ff-aa00-86b9bf8c7fe9"
      },
      "execution_count": 18,
      "outputs": [
        {
          "output_type": "execute_result",
          "data": {
            "text/plain": [
              "(tensor([[0.0753, 0.8860, 0.5832],\n",
              "         [0.3376, 0.8090, 0.5779]], device='cuda:0'),\n",
              " tensor([[0.9040, 0.5547],\n",
              "         [0.3423, 0.6343],\n",
              "         [0.3644, 0.7104]], device='cuda:0'))"
            ]
          },
          "metadata": {},
          "execution_count": 18
        }
      ]
    },
    {
      "cell_type": "markdown",
      "source": [
        "\n",
        "### 7. Perform a matrix multiplication on the tensors you created in 6 (again, you may have to adjust the shapes of one of the tensors).\n",
        "\n",
        "The output should look like:\n",
        "```\n",
        "(tensor([[0.3647, 0.4709],\n",
        "         [0.5184, 0.5617]], device='cuda:0'), torch.Size([2, 2]))\n",
        "```"
      ],
      "metadata": {
        "id": "5TlAxeiSiu1y"
      }
    },
    {
      "cell_type": "code",
      "source": [
        "# Perform matmul on tensor_A and tensor_B\n",
        "tensor_c=torch.matmul(rand1,rand2)\n",
        "tensor_c"
      ],
      "metadata": {
        "id": "fAeG7ox0lHEO",
        "colab": {
          "base_uri": "https://localhost:8080/"
        },
        "outputId": "7251dbf7-22d8-4ffc-c202-4a089c8eff5e"
      },
      "execution_count": 20,
      "outputs": [
        {
          "output_type": "execute_result",
          "data": {
            "text/plain": [
              "tensor([[0.5839, 1.0181],\n",
              "        [0.7928, 1.1110]], device='cuda:0')"
            ]
          },
          "metadata": {},
          "execution_count": 20
        }
      ]
    },
    {
      "cell_type": "markdown",
      "source": [
        "### 8. Find the maximum and minimum values of the output of 7."
      ],
      "metadata": {
        "id": "G7qfa5CSivwg"
      }
    },
    {
      "cell_type": "code",
      "source": [
        "# Find max\n",
        "tensor_c.max(),tensor_c.min()\n",
        "# Find min\n"
      ],
      "metadata": {
        "id": "Fu8_3mZpllOd",
        "colab": {
          "base_uri": "https://localhost:8080/"
        },
        "outputId": "6b6dc0a3-eaf7-4f38-9961-a616a52ceaf3"
      },
      "execution_count": 21,
      "outputs": [
        {
          "output_type": "execute_result",
          "data": {
            "text/plain": [
              "(tensor(1.1110, device='cuda:0'), tensor(0.5839, device='cuda:0'))"
            ]
          },
          "metadata": {},
          "execution_count": 21
        }
      ]
    },
    {
      "cell_type": "markdown",
      "source": [
        "### 9. Find the maximum and minimum index values of the output of 7."
      ],
      "metadata": {
        "id": "wrTj5FgNiw47"
      }
    },
    {
      "cell_type": "code",
      "source": [
        "# Find arg max\n",
        "tensor_c.argmax(),tensor_c.argmin()\n",
        "\n",
        "\n",
        "# Find arg min\n"
      ],
      "metadata": {
        "id": "CCEKt4K2lsfQ",
        "colab": {
          "base_uri": "https://localhost:8080/"
        },
        "outputId": "eee90d1a-0e55-4949-92c8-1912c80cbcf8"
      },
      "execution_count": 22,
      "outputs": [
        {
          "output_type": "execute_result",
          "data": {
            "text/plain": [
              "(tensor(3, device='cuda:0'), tensor(0, device='cuda:0'))"
            ]
          },
          "metadata": {},
          "execution_count": 22
        }
      ]
    },
    {
      "cell_type": "markdown",
      "source": [
        "\n",
        "### 10. Make a random tensor with shape `(1, 1, 1, 10)` and then create a new tensor with all the `1` dimensions removed to be left with a tensor of shape `(10)`. Set the seed to `7` when you create it and print out the first tensor and it's shape as well as the second tensor and it's shape.\n",
        "\n",
        "The output should look like:\n",
        "\n",
        "```\n",
        "tensor([[[[0.5349, 0.1988, 0.6592, 0.6569, 0.2328, 0.4251, 0.2071, 0.6297,\n",
        "           0.3653, 0.8513]]]]) torch.Size([1, 1, 1, 10])\n",
        "tensor([0.5349, 0.1988, 0.6592, 0.6569, 0.2328, 0.4251, 0.2071, 0.6297, 0.3653,\n",
        "        0.8513]) torch.Size([10])\n",
        "```"
      ],
      "metadata": {
        "id": "hmeybz4uixy7"
      }
    },
    {
      "cell_type": "code",
      "source": [
        "# Set seed\n",
        "\n",
        "if torch.cuda.is_available():\n",
        "  torch.cuda.manual_seed(7)\n",
        "# Create random tensor\n",
        "\n",
        "random_t1=torch.rand(2,2)\n",
        "random_t1.shape,random_t1\n",
        "print(random_t1)\n",
        "print(\"dimensions before:\")\n",
        "print(random_t1.dim())\n",
        "random_t2=random_t1.squeeze()\n",
        "print(\"dimenssion after:\")\n",
        "random_t1.dim()\n",
        "print(random_t2)"
      ],
      "metadata": {
        "id": "TQ9zbRzVl1jV",
        "colab": {
          "base_uri": "https://localhost:8080/"
        },
        "outputId": "97f843bc-6d71-4d2e-d5d5-717c5dabfa1c"
      },
      "execution_count": 41,
      "outputs": [
        {
          "output_type": "stream",
          "name": "stdout",
          "text": [
            "tensor([[0.1371, 0.5117],\n",
            "        [0.1585, 0.0758]])\n",
            "dimensions before:\n",
            "2\n",
            "dimenssion after:\n",
            "tensor([[0.1371, 0.5117],\n",
            "        [0.1585, 0.0758]])\n"
          ]
        }
      ]
    },
    {
      "cell_type": "code",
      "source": [],
      "metadata": {
        "id": "IFWOFEFTa45M"
      },
      "execution_count": null,
      "outputs": []
    }
  ]
}